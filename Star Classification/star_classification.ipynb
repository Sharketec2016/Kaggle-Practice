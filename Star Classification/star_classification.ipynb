{
 "cells": [
  {
   "cell_type": "markdown",
   "metadata": {},
   "source": [
    "# Star Classification\n",
    "\n",
    "Within this notebook I will be attempting to recreate the HR-diagram for star classification and train a basic decision tree ML algorithm to determine a stars color and/or spectral class based on the temperature, luminosity, and/or absolute magitude"
   ]
  },
  {
   "cell_type": "markdown",
   "metadata": {},
   "source": [
    "#### First we import all the necessary packages and tools that will be use"
   ]
  },
  {
   "cell_type": "code",
   "execution_count": 3,
   "metadata": {},
   "outputs": [],
   "source": [
    "import numpy as np\n",
    "import pandas as pd\n",
    "import sklearn as sk\n",
    "import plotly.express as px\n",
    "\n",
    "import matplotlib.pyplot as plt\n",
    "\n",
    "#plt.style.available\n",
    "plt.style.use('dark_background')"
   ]
  },
  {
   "cell_type": "markdown",
   "metadata": {},
   "source": [
    "First we are going to import the data and make sure that we imported it correctly"
   ]
  },
  {
   "cell_type": "code",
   "execution_count": 4,
   "metadata": {},
   "outputs": [
    {
     "data": {
      "text/html": [
       "<div>\n",
       "<style scoped>\n",
       "    .dataframe tbody tr th:only-of-type {\n",
       "        vertical-align: middle;\n",
       "    }\n",
       "\n",
       "    .dataframe tbody tr th {\n",
       "        vertical-align: top;\n",
       "    }\n",
       "\n",
       "    .dataframe thead th {\n",
       "        text-align: right;\n",
       "    }\n",
       "</style>\n",
       "<table border=\"1\" class=\"dataframe\">\n",
       "  <thead>\n",
       "    <tr style=\"text-align: right;\">\n",
       "      <th></th>\n",
       "      <th>Temperature (K)</th>\n",
       "      <th>Luminosity(L/Lo)</th>\n",
       "      <th>Radius(R/Ro)</th>\n",
       "      <th>Absolute magnitude(Mv)</th>\n",
       "      <th>Star type</th>\n",
       "      <th>Star color</th>\n",
       "      <th>Spectral Class</th>\n",
       "    </tr>\n",
       "  </thead>\n",
       "  <tbody>\n",
       "    <tr>\n",
       "      <th>0</th>\n",
       "      <td>3068</td>\n",
       "      <td>0.002400</td>\n",
       "      <td>0.1700</td>\n",
       "      <td>16.12</td>\n",
       "      <td>0</td>\n",
       "      <td>Red</td>\n",
       "      <td>M</td>\n",
       "    </tr>\n",
       "    <tr>\n",
       "      <th>1</th>\n",
       "      <td>3042</td>\n",
       "      <td>0.000500</td>\n",
       "      <td>0.1542</td>\n",
       "      <td>16.60</td>\n",
       "      <td>0</td>\n",
       "      <td>Red</td>\n",
       "      <td>M</td>\n",
       "    </tr>\n",
       "    <tr>\n",
       "      <th>2</th>\n",
       "      <td>2600</td>\n",
       "      <td>0.000300</td>\n",
       "      <td>0.1020</td>\n",
       "      <td>18.70</td>\n",
       "      <td>0</td>\n",
       "      <td>Red</td>\n",
       "      <td>M</td>\n",
       "    </tr>\n",
       "    <tr>\n",
       "      <th>3</th>\n",
       "      <td>2800</td>\n",
       "      <td>0.000200</td>\n",
       "      <td>0.1600</td>\n",
       "      <td>16.65</td>\n",
       "      <td>0</td>\n",
       "      <td>Red</td>\n",
       "      <td>M</td>\n",
       "    </tr>\n",
       "    <tr>\n",
       "      <th>4</th>\n",
       "      <td>1939</td>\n",
       "      <td>0.000138</td>\n",
       "      <td>0.1030</td>\n",
       "      <td>20.06</td>\n",
       "      <td>0</td>\n",
       "      <td>Red</td>\n",
       "      <td>M</td>\n",
       "    </tr>\n",
       "    <tr>\n",
       "      <th>...</th>\n",
       "      <td>...</td>\n",
       "      <td>...</td>\n",
       "      <td>...</td>\n",
       "      <td>...</td>\n",
       "      <td>...</td>\n",
       "      <td>...</td>\n",
       "      <td>...</td>\n",
       "    </tr>\n",
       "    <tr>\n",
       "      <th>235</th>\n",
       "      <td>38940</td>\n",
       "      <td>374830.000000</td>\n",
       "      <td>1356.0000</td>\n",
       "      <td>-9.93</td>\n",
       "      <td>5</td>\n",
       "      <td>Blue</td>\n",
       "      <td>O</td>\n",
       "    </tr>\n",
       "    <tr>\n",
       "      <th>236</th>\n",
       "      <td>30839</td>\n",
       "      <td>834042.000000</td>\n",
       "      <td>1194.0000</td>\n",
       "      <td>-10.63</td>\n",
       "      <td>5</td>\n",
       "      <td>Blue</td>\n",
       "      <td>O</td>\n",
       "    </tr>\n",
       "    <tr>\n",
       "      <th>237</th>\n",
       "      <td>8829</td>\n",
       "      <td>537493.000000</td>\n",
       "      <td>1423.0000</td>\n",
       "      <td>-10.73</td>\n",
       "      <td>5</td>\n",
       "      <td>White</td>\n",
       "      <td>A</td>\n",
       "    </tr>\n",
       "    <tr>\n",
       "      <th>238</th>\n",
       "      <td>9235</td>\n",
       "      <td>404940.000000</td>\n",
       "      <td>1112.0000</td>\n",
       "      <td>-11.23</td>\n",
       "      <td>5</td>\n",
       "      <td>White</td>\n",
       "      <td>A</td>\n",
       "    </tr>\n",
       "    <tr>\n",
       "      <th>239</th>\n",
       "      <td>37882</td>\n",
       "      <td>294903.000000</td>\n",
       "      <td>1783.0000</td>\n",
       "      <td>-7.80</td>\n",
       "      <td>5</td>\n",
       "      <td>Blue</td>\n",
       "      <td>O</td>\n",
       "    </tr>\n",
       "  </tbody>\n",
       "</table>\n",
       "<p>240 rows × 7 columns</p>\n",
       "</div>"
      ],
      "text/plain": [
       "     Temperature (K)  Luminosity(L/Lo)  Radius(R/Ro)  Absolute magnitude(Mv)  \\\n",
       "0               3068          0.002400        0.1700                   16.12   \n",
       "1               3042          0.000500        0.1542                   16.60   \n",
       "2               2600          0.000300        0.1020                   18.70   \n",
       "3               2800          0.000200        0.1600                   16.65   \n",
       "4               1939          0.000138        0.1030                   20.06   \n",
       "..               ...               ...           ...                     ...   \n",
       "235            38940     374830.000000     1356.0000                   -9.93   \n",
       "236            30839     834042.000000     1194.0000                  -10.63   \n",
       "237             8829     537493.000000     1423.0000                  -10.73   \n",
       "238             9235     404940.000000     1112.0000                  -11.23   \n",
       "239            37882     294903.000000     1783.0000                   -7.80   \n",
       "\n",
       "     Star type Star color Spectral Class  \n",
       "0            0        Red              M  \n",
       "1            0        Red              M  \n",
       "2            0        Red              M  \n",
       "3            0        Red              M  \n",
       "4            0        Red              M  \n",
       "..         ...        ...            ...  \n",
       "235          5       Blue              O  \n",
       "236          5       Blue              O  \n",
       "237          5      White              A  \n",
       "238          5      White              A  \n",
       "239          5       Blue              O  \n",
       "\n",
       "[240 rows x 7 columns]"
      ]
     },
     "execution_count": 4,
     "metadata": {},
     "output_type": "execute_result"
    }
   ],
   "source": [
    "df = pd.read_csv('6_class.csv')\n",
    "df"
   ]
  },
  {
   "cell_type": "markdown",
   "metadata": {},
   "source": [
    "Next we are going to see if we need to clean up the data at all, meaning we will check for null values and/or any other problems."
   ]
  },
  {
   "cell_type": "code",
   "execution_count": 5,
   "metadata": {},
   "outputs": [
    {
     "data": {
      "text/plain": [
       "Temperature (K)           0\n",
       "Luminosity(L/Lo)          0\n",
       "Radius(R/Ro)              0\n",
       "Absolute magnitude(Mv)    0\n",
       "Star type                 0\n",
       "Star color                0\n",
       "Spectral Class            0\n",
       "dtype: int64"
      ]
     },
     "execution_count": 5,
     "metadata": {},
     "output_type": "execute_result"
    }
   ],
   "source": [
    "df.isnull().sum() #here we can see that our data has no problems with it so there is no need to change anything"
   ]
  },
  {
   "cell_type": "markdown",
   "metadata": {},
   "source": [
    "Now we need to split our data into the necessary columns for making the different predictions"
   ]
  },
  {
   "cell_type": "code",
   "execution_count": 6,
   "metadata": {},
   "outputs": [],
   "source": [
    "from sklearn.model_selection import train_test_split\n",
    "\n",
    "X = df.drop(columns=['Radius(R/Ro)', 'Star type', 'Star color', 'Spectral Class']) #here is the data that we will use to make our predictions\n",
    "X2 = df.drop(columns=['Radius(R/Ro)', 'Star type', 'Star color', 'Spectral Class', 'Absolute magnitude(Mv)'])\n",
    "Y = df['Spectral Class'] #here is the data that we will classify our predictions onto\n",
    "X_train, X_test, y_train, y_test = train_test_split(X, Y, test_size=.2) #here we are splitting our data X and Y for testing and training our model for accuracy. We split in by 30%, that being 70% is for training and 30% is for testing\n",
    "X2_train, X2_test, y2_train, y2_test = train_test_split(X2, Y, test_size=.2)"
   ]
  },
  {
   "cell_type": "markdown",
   "metadata": {},
   "source": [
    "Next we are going to be importing our model which will be a Decision Tree and a KNeighbors Classifier. We will then train our models off of the train data from before, and for the KNeighbors vary the number of neighbors from 1-4"
   ]
  },
  {
   "cell_type": "code",
   "execution_count": 7,
   "metadata": {},
   "outputs": [
    {
     "data": {
      "text/plain": [
       "KNeighborsClassifier(n_neighbors=4)"
      ]
     },
     "execution_count": 7,
     "metadata": {},
     "output_type": "execute_result"
    }
   ],
   "source": [
    "from sklearn.tree import DecisionTreeClassifier \n",
    "from sklearn.neighbors import KNeighborsClassifier\n",
    "\n",
    "model = DecisionTreeClassifier()\n",
    "model.fit(X_train, y_train)\n",
    "\n",
    "\n",
    "n_neighbors = 1\n",
    "model2 = KNeighborsClassifier(n_neighbors=n_neighbors, weights='uniform')\n",
    "model2.fit(X2_train, y2_train)\n",
    "\n",
    "n_neighbors = 2\n",
    "model3 = KNeighborsClassifier(n_neighbors=n_neighbors, weights='uniform')\n",
    "model3.fit(X2_train, y2_train)\n",
    "\n",
    "n_neighbors = 3\n",
    "model4 = KNeighborsClassifier(n_neighbors=n_neighbors, weights='uniform')\n",
    "model4.fit(X2_train, y2_train)\n",
    "\n",
    "n_neighbors = 4\n",
    "model5 = KNeighborsClassifier(n_neighbors=n_neighbors, weights='uniform')\n",
    "model5.fit(X2_train, y2_train)"
   ]
  },
  {
   "cell_type": "markdown",
   "metadata": {},
   "source": [
    "Here we import the method \"accuracy_score\" to measure the accuracy of the predictions (test data)."
   ]
  },
  {
   "cell_type": "code",
   "execution_count": 8,
   "metadata": {},
   "outputs": [
    {
     "name": "stdout",
     "output_type": "stream",
     "text": [
      "Our first model has a accuracy of 87.5%\n",
      "Our second model has a accuracy of 85.4% with n_neighbors of 1\n",
      "Our second model has a accuracy of 87.5% with n_neighbors of 2\n",
      "Our second model has a accuracy of 83.3% with n_neighbors of 3\n",
      "Our second model has a accuracy of 85.4% with n_neighbors of 4\n",
      "\n",
      " We can see that the decision tree is better than the kneighbors model, even after we increase the number of neighbors to consider. Thus we might conclude that the decision tree is the superior model for this classification situation.\n"
     ]
    }
   ],
   "source": [
    "from sklearn.metrics import accuracy_score\n",
    "predictions = model.predict(X_test)\n",
    "score = accuracy_score(y_test, predictions)\n",
    "print(\"Our first model has a accuracy of {:.1f}%\".format(score*100))\n",
    "\n",
    "predictions2 = model2.predict(X2_test)\n",
    "score2 = accuracy_score(y2_test, predictions2)\n",
    "print(\"Our second model has a accuracy of {:.1f}% with n_neighbors of {}\".format(score2*100, 1))\n",
    "\n",
    "\n",
    "predictions3 = model3.predict(X2_test)\n",
    "score3 = accuracy_score(y2_test, predictions3)\n",
    "print(\"Our second model has a accuracy of {:.1f}% with n_neighbors of {}\".format(score3*100, 2))\n",
    "\n",
    "predictions4 = model4.predict(X2_test)\n",
    "score4 = accuracy_score(y2_test, predictions4)\n",
    "print(\"Our second model has a accuracy of {:.1f}% with n_neighbors of {}\".format(score4*100, 3))\n",
    "\n",
    "predictions5 = model5.predict(X2_test)\n",
    "score5 = accuracy_score(y2_test, predictions5)\n",
    "print(\"Our second model has a accuracy of {:.1f}% with n_neighbors of {}\".format(score5*100, 4))\n",
    "\n",
    "\n",
    "print(\"\\n We can see that the decision tree is better than the kneighbors model, even after we increase the number of neighbors to consider. Thus we might conclude that the decision tree is the superior model for this classification situation.\")\n"
   ]
  },
  {
   "cell_type": "markdown",
   "metadata": {},
   "source": [
    "### HR-Diagram\n",
    "Next I am going to be plotting the different values and try to recreate the HR-diagram"
   ]
  },
  {
   "cell_type": "code",
   "execution_count": 9,
   "metadata": {},
   "outputs": [],
   "source": [
    "Temp = np.array(df['Temperature (K)'])\n",
    "Lum = df['Luminosity(L/Lo)']\n",
    "Mag = np.array(df['Absolute magnitude(Mv)'])"
   ]
  },
  {
   "cell_type": "code",
   "execution_count": 10,
   "metadata": {},
   "outputs": [
    {
     "data": {
      "text/plain": [
       "4.6020599913279625"
      ]
     },
     "execution_count": 10,
     "metadata": {},
     "output_type": "execute_result"
    }
   ],
   "source": [
    "np.log10(Temp.max())"
   ]
  },
  {
   "cell_type": "code",
   "execution_count": 11,
   "metadata": {},
   "outputs": [
    {
     "data": {
      "text/plain": [
       "array([1.00000000e+00, 1.04533497e+00, 1.09272521e+00, 1.14226388e+00,\n",
       "       1.19404838e+00, 1.24818054e+00, 1.30476677e+00, 1.36391834e+00,\n",
       "       1.42575154e+00, 1.49038795e+00, 1.55795465e+00, 1.62858448e+00,\n",
       "       1.70241632e+00, 1.77959532e+00, 1.86027323e+00, 1.94460867e+00,\n",
       "       2.03276745e+00, 2.12492291e+00, 2.22125624e+00, 2.32195683e+00,\n",
       "       2.42722269e+00, 2.53726077e+00, 2.65228742e+00, 2.77252880e+00,\n",
       "       2.89822132e+00, 3.02961211e+00, 3.16695950e+00, 3.31053353e+00,\n",
       "       3.46061648e+00, 3.61750344e+00, 3.78150287e+00, 3.95293720e+00,\n",
       "       4.13214351e+00, 4.31947413e+00, 4.51529738e+00, 4.71999827e+00,\n",
       "       4.93397927e+00, 5.15766110e+00, 5.39148353e+00, 5.63590630e+00,\n",
       "       5.89140997e+00, 6.15849689e+00, 6.43769219e+00, 6.72954480e+00,\n",
       "       7.03462854e+00, 7.35354325e+00, 7.68691595e+00, 8.03540208e+00,\n",
       "       8.39968683e+00, 8.78048642e+00, 9.17854955e+00, 9.59465886e+00,\n",
       "       1.00296325e+01, 1.04843256e+01, 1.09596322e+01, 1.14564869e+01,\n",
       "       1.19758664e+01, 1.25187920e+01, 1.30863311e+01, 1.36795996e+01,\n",
       "       1.42997639e+01, 1.49480434e+01, 1.56257125e+01, 1.63341038e+01,\n",
       "       1.70746100e+01, 1.78486870e+01, 1.86578568e+01, 1.95037102e+01,\n",
       "       2.03879104e+01, 2.13121958e+01, 2.22783837e+01, 2.32883737e+01,\n",
       "       2.43441515e+01, 2.54477930e+01, 2.66014680e+01, 2.78074449e+01,\n",
       "       2.90680947e+01, 3.03858960e+01, 3.17634398e+01, 3.32034346e+01,\n",
       "       3.47087114e+01, 3.62822300e+01, 3.79270840e+01, 3.96465073e+01,\n",
       "       4.14438807e+01, 4.33227380e+01, 4.52867732e+01, 4.73398480e+01,\n",
       "       4.94859988e+01, 5.17294453e+01, 5.40745983e+01, 5.65260689e+01,\n",
       "       5.90886768e+01, 6.17674604e+01, 6.45676867e+01, 6.74948611e+01,\n",
       "       7.05547389e+01, 7.37533362e+01, 7.70969418e+01, 8.05921297e+01,\n",
       "       8.42457718e+01, 8.80650518e+01, 9.20574786e+01, 9.62309021e+01,\n",
       "       1.00593528e+02, 1.05153933e+02, 1.09921083e+02, 1.14904353e+02,\n",
       "       1.20113539e+02, 1.25558883e+02, 1.31251092e+02, 1.37201357e+02,\n",
       "       1.43421377e+02, 1.49923381e+02, 1.56720154e+02, 1.63825058e+02,\n",
       "       1.71252063e+02, 1.79015771e+02, 1.87131446e+02, 1.95615046e+02,\n",
       "       2.04483249e+02, 2.13753492e+02, 2.23444001e+02, 2.33573829e+02,\n",
       "       2.44162892e+02, 2.55232011e+02, 2.66802947e+02, 2.78898452e+02,\n",
       "       2.91542306e+02, 3.04759370e+02, 3.18575628e+02, 3.33018246e+02,\n",
       "       3.48115619e+02, 3.63897432e+02, 3.80394713e+02, 3.97639898e+02,\n",
       "       4.15666892e+02, 4.34511140e+02, 4.54209692e+02, 4.74801276e+02,\n",
       "       4.96326380e+02, 5.18827324e+02, 5.42348347e+02, 5.66935696e+02,\n",
       "       5.92637711e+02, 6.19504927e+02, 6.47590167e+02, 6.76948651e+02,\n",
       "       7.07638100e+02, 7.39718856e+02, 7.73253991e+02, 8.08309441e+02,\n",
       "       8.44954129e+02, 8.83260103e+02, 9.23302677e+02, 9.65160581e+02,\n",
       "       1.00891611e+03, 1.05465530e+03, 1.10246807e+03, 1.15244843e+03,\n",
       "       1.20469465e+03, 1.25930945e+03, 1.31640021e+03, 1.37607918e+03,\n",
       "       1.43846370e+03, 1.50367641e+03, 1.57184554e+03, 1.64310512e+03,\n",
       "       1.71759525e+03, 1.79546239e+03, 1.87685963e+03, 1.96194701e+03,\n",
       "       2.05089183e+03, 2.14386896e+03, 2.24106120e+03, 2.34265966e+03,\n",
       "       2.44886407e+03, 2.55988326e+03, 2.67593551e+03, 2.79724897e+03,\n",
       "       2.92406218e+03, 3.05662447e+03, 3.19519646e+03, 3.34005061e+03,\n",
       "       3.49147172e+03, 3.64975750e+03, 3.81521917e+03, 3.98818203e+03,\n",
       "       4.16898616e+03, 4.35798704e+03, 4.55555627e+03, 4.76208230e+03,\n",
       "       4.97797118e+03, 5.20364738e+03, 5.43955460e+03, 5.68615667e+03,\n",
       "       5.94393843e+03, 6.21340673e+03, 6.49509137e+03, 6.78954617e+03,\n",
       "       7.09735007e+03, 7.41910826e+03, 7.75545334e+03, 8.10704662e+03,\n",
       "       8.47457937e+03, 8.85877421e+03, 9.26038651e+03, 9.68020590e+03,\n",
       "       1.01190578e+04, 1.05778050e+04, 1.10573495e+04, 1.15586342e+04,\n",
       "       1.20826446e+04, 1.26304110e+04, 1.32030103e+04, 1.38015685e+04,\n",
       "       1.44272622e+04, 1.50813218e+04, 1.57650331e+04, 1.64797405e+04,\n",
       "       1.72268491e+04, 1.80078279e+04, 1.88242123e+04, 1.96776075e+04,\n",
       "       2.05696913e+04, 2.15022177e+04, 2.24770202e+04, 2.34960154e+04,\n",
       "       2.45612066e+04, 2.56746883e+04, 2.68386496e+04, 2.80553791e+04,\n",
       "       2.93272690e+04, 3.06568200e+04, 3.20466462e+04, 3.34994801e+04,\n",
       "       3.50181782e+04, 3.66057264e+04, 3.82652460e+04, 4.00000000e+04])"
      ]
     },
     "execution_count": 11,
     "metadata": {},
     "output_type": "execute_result"
    }
   ],
   "source": [
    "color_grad = np.logspace(0, np.log10(Temp.max()), base=10, num=len(Temp))\n",
    "color_grad"
   ]
  },
  {
   "cell_type": "code",
   "execution_count": 12,
   "metadata": {},
   "outputs": [
    {
     "data": {
      "image/png": "[encoded data removed]",
      "text/plain": [
       "<Figure size 700x700 with 2 Axes>"
      ]
     },
     "metadata": {},
     "output_type": "display_data"
    }
   ],
   "source": [
    "fig = plt.figure(figsize=(7, 7))\n",
    "ax= fig.add_subplot()\n",
    "cm = plt.cm.get_cmap('RdYlBu')\n",
    "\n",
    "\n",
    "\n",
    "ax.scatter(Temp, Mag, c=Temp, cmap=cm, s=100, edgecolors='black')\n",
    "#ax.set_yscale('log')\n",
    "ax.invert_xaxis()\n",
    "ax.invert_yaxis()\n",
    "ax.grid()\n",
    "ax.set_xlabel('Star Classification')\n",
    "ax.set_ylabel('Absolute Magnetide')\n",
    "#ax.set_xscale('log', base=10)\n",
    "ax.set_xscale('linear')\n",
    "ax.set_xticks([30000, (30000+10000)/2, (7500+10000)/2, (6000+7500)/2, (6000+5200)/2, (5200+3700)/2, (2400+3700)/2])\n",
    "ax.set_xticklabels(['O', 'B', \"A\", \"F\", \"G\", \"K\", \"M\"])\n",
    "\n",
    "\n",
    "\n",
    "secax = ax.secondary_xaxis('top')\n",
    "secax.set_xticks([30000, 10000, 6000, 3000])\n",
    "secax.set_xticklabels(['30,000', '10,000', '6,000', '3,000'])\n",
    "secax.set_xlabel('Temperature')\n",
    "\n",
    "\n",
    "\n",
    "\n",
    "ax2 = ax.twinx()\n",
    "ax2.scatter(Temp, Lum, c=Temp, cmap=cm,  s=100, edgecolors='black')\n",
    "ax2.set_ylabel('Luminosity')\n",
    "ax2.set_yscale('log')\n"
   ]
  },
  {
   "cell_type": "code",
   "execution_count": 13,
   "metadata": {},
   "outputs": [
    {
     "data": {
      "text/html": [
       "<div>\n",
       "<style scoped>\n",
       "    .dataframe tbody tr th:only-of-type {\n",
       "        vertical-align: middle;\n",
       "    }\n",
       "\n",
       "    .dataframe tbody tr th {\n",
       "        vertical-align: top;\n",
       "    }\n",
       "\n",
       "    .dataframe thead th {\n",
       "        text-align: right;\n",
       "    }\n",
       "</style>\n",
       "<table border=\"1\" class=\"dataframe\">\n",
       "  <thead>\n",
       "    <tr style=\"text-align: right;\">\n",
       "      <th></th>\n",
       "      <th>Temperature (K)</th>\n",
       "      <th>Luminosity(L/Lo)</th>\n",
       "      <th>Radius(R/Ro)</th>\n",
       "      <th>Absolute magnitude(Mv)</th>\n",
       "      <th>Star type</th>\n",
       "      <th>Star color</th>\n",
       "      <th>Spectral Class</th>\n",
       "    </tr>\n",
       "  </thead>\n",
       "  <tbody>\n",
       "    <tr>\n",
       "      <th>0</th>\n",
       "      <td>3068</td>\n",
       "      <td>0.002400</td>\n",
       "      <td>0.1700</td>\n",
       "      <td>16.12</td>\n",
       "      <td>0</td>\n",
       "      <td>Red</td>\n",
       "      <td>M</td>\n",
       "    </tr>\n",
       "    <tr>\n",
       "      <th>1</th>\n",
       "      <td>3042</td>\n",
       "      <td>0.000500</td>\n",
       "      <td>0.1542</td>\n",
       "      <td>16.60</td>\n",
       "      <td>0</td>\n",
       "      <td>Red</td>\n",
       "      <td>M</td>\n",
       "    </tr>\n",
       "    <tr>\n",
       "      <th>2</th>\n",
       "      <td>2600</td>\n",
       "      <td>0.000300</td>\n",
       "      <td>0.1020</td>\n",
       "      <td>18.70</td>\n",
       "      <td>0</td>\n",
       "      <td>Red</td>\n",
       "      <td>M</td>\n",
       "    </tr>\n",
       "    <tr>\n",
       "      <th>3</th>\n",
       "      <td>2800</td>\n",
       "      <td>0.000200</td>\n",
       "      <td>0.1600</td>\n",
       "      <td>16.65</td>\n",
       "      <td>0</td>\n",
       "      <td>Red</td>\n",
       "      <td>M</td>\n",
       "    </tr>\n",
       "    <tr>\n",
       "      <th>4</th>\n",
       "      <td>1939</td>\n",
       "      <td>0.000138</td>\n",
       "      <td>0.1030</td>\n",
       "      <td>20.06</td>\n",
       "      <td>0</td>\n",
       "      <td>Red</td>\n",
       "      <td>M</td>\n",
       "    </tr>\n",
       "    <tr>\n",
       "      <th>...</th>\n",
       "      <td>...</td>\n",
       "      <td>...</td>\n",
       "      <td>...</td>\n",
       "      <td>...</td>\n",
       "      <td>...</td>\n",
       "      <td>...</td>\n",
       "      <td>...</td>\n",
       "    </tr>\n",
       "    <tr>\n",
       "      <th>235</th>\n",
       "      <td>38940</td>\n",
       "      <td>374830.000000</td>\n",
       "      <td>1356.0000</td>\n",
       "      <td>-9.93</td>\n",
       "      <td>5</td>\n",
       "      <td>Blue</td>\n",
       "      <td>O</td>\n",
       "    </tr>\n",
       "    <tr>\n",
       "      <th>236</th>\n",
       "      <td>30839</td>\n",
       "      <td>834042.000000</td>\n",
       "      <td>1194.0000</td>\n",
       "      <td>-10.63</td>\n",
       "      <td>5</td>\n",
       "      <td>Blue</td>\n",
       "      <td>O</td>\n",
       "    </tr>\n",
       "    <tr>\n",
       "      <th>237</th>\n",
       "      <td>8829</td>\n",
       "      <td>537493.000000</td>\n",
       "      <td>1423.0000</td>\n",
       "      <td>-10.73</td>\n",
       "      <td>5</td>\n",
       "      <td>White</td>\n",
       "      <td>A</td>\n",
       "    </tr>\n",
       "    <tr>\n",
       "      <th>238</th>\n",
       "      <td>9235</td>\n",
       "      <td>404940.000000</td>\n",
       "      <td>1112.0000</td>\n",
       "      <td>-11.23</td>\n",
       "      <td>5</td>\n",
       "      <td>White</td>\n",
       "      <td>A</td>\n",
       "    </tr>\n",
       "    <tr>\n",
       "      <th>239</th>\n",
       "      <td>37882</td>\n",
       "      <td>294903.000000</td>\n",
       "      <td>1783.0000</td>\n",
       "      <td>-7.80</td>\n",
       "      <td>5</td>\n",
       "      <td>Blue</td>\n",
       "      <td>O</td>\n",
       "    </tr>\n",
       "  </tbody>\n",
       "</table>\n",
       "<p>240 rows × 7 columns</p>\n",
       "</div>"
      ],
      "text/plain": [
       "     Temperature (K)  Luminosity(L/Lo)  Radius(R/Ro)  Absolute magnitude(Mv)  \\\n",
       "0               3068          0.002400        0.1700                   16.12   \n",
       "1               3042          0.000500        0.1542                   16.60   \n",
       "2               2600          0.000300        0.1020                   18.70   \n",
       "3               2800          0.000200        0.1600                   16.65   \n",
       "4               1939          0.000138        0.1030                   20.06   \n",
       "..               ...               ...           ...                     ...   \n",
       "235            38940     374830.000000     1356.0000                   -9.93   \n",
       "236            30839     834042.000000     1194.0000                  -10.63   \n",
       "237             8829     537493.000000     1423.0000                  -10.73   \n",
       "238             9235     404940.000000     1112.0000                  -11.23   \n",
       "239            37882     294903.000000     1783.0000                   -7.80   \n",
       "\n",
       "     Star type Star color Spectral Class  \n",
       "0            0        Red              M  \n",
       "1            0        Red              M  \n",
       "2            0        Red              M  \n",
       "3            0        Red              M  \n",
       "4            0        Red              M  \n",
       "..         ...        ...            ...  \n",
       "235          5       Blue              O  \n",
       "236          5       Blue              O  \n",
       "237          5      White              A  \n",
       "238          5      White              A  \n",
       "239          5       Blue              O  \n",
       "\n",
       "[240 rows x 7 columns]"
      ]
     },
     "execution_count": 13,
     "metadata": {},
     "output_type": "execute_result"
    }
   ],
   "source": [
    "df"
   ]
  },
  {
   "cell_type": "code",
   "execution_count": 17,
   "metadata": {},
   "outputs": [
    {
     "data": {
      "application/vnd.plotly.v1+json": {
       "config": {
        "plotlyServerURL": "https://plot.ly"
       },
       "data": [
        {
         "hovertemplate": "<b>%{hovertext}</b><br><br>Temperature (K)=%{marker.color}<br>Luminosity(L/Lo)=%{y}<extra></extra>",
         "hovertext": [
          "M",
          "M",
          "M",
          "M",
          "M",
          "M",
          "M",
          "M",
          "M",
          "M",
          "M",
          "M",
          "M",
          "M",
          "M",
          "M",
          "M",
          "M",
          "M",
          "M",
          "B",
          "A",
          "F",
          "A",
          "B",
          "F",
          "A",
          "F",
          "F",
          "F",
          "O",
          "B",
          "B",
          "B",
          "F",
          "A",
          "F",
          "F",
          "F",
          "F",
          "M",
          "M",
          "M",
          "M",
          "M",
          "M",
          "M",
          "M",
          "M",
          "B",
          "M",
          "M",
          "M",
          "M",
          "M",
          "M",
          "M",
          "M",
          "M",
          "M",
          "M",
          "M",
          "M",
          "M",
          "M",
          "M",
          "M",
          "M",
          "M",
          "M",
          "M",
          "M",
          "M",
          "M",
          "M",
          "M",
          "M",
          "M",
          "M",
          "M",
          "F",
          "F",
          "A",
          "B",
          "B",
          "A",
          "B",
          "B",
          "F",
          "B",
          "F",
          "K",
          "K",
          "K",
          "A",
          "A",
          "K",
          "F",
          "A",
          "O",
          "B",
          "O",
          "O",
          "O",
          "O",
          "O",
          "O",
          "O",
          "O",
          "O",
          "M",
          "M",
          "M",
          "M",
          "M",
          "M",
          "K",
          "M",
          "G",
          "M",
          "M",
          "M",
          "M",
          "M",
          "M",
          "M",
          "M",
          "M",
          "M",
          "M",
          "M",
          "M",
          "M",
          "M",
          "M",
          "M",
          "M",
          "M",
          "M",
          "M",
          "B",
          "B",
          "B",
          "B",
          "B",
          "A",
          "B",
          "F",
          "A",
          "B",
          "B",
          "A",
          "A",
          "B",
          "B",
          "B",
          "B",
          "B",
          "A",
          "O",
          "O",
          "O",
          "O",
          "O",
          "O",
          "O",
          "O",
          "O",
          "O",
          "O",
          "M",
          "M",
          "K",
          "B",
          "M",
          "M",
          "O",
          "B",
          "B",
          "B",
          "M",
          "M",
          "M",
          "M",
          "M",
          "M",
          "M",
          "M",
          "M",
          "M",
          "M",
          "M",
          "M",
          "M",
          "M",
          "M",
          "M",
          "M",
          "M",
          "M",
          "B",
          "B",
          "B",
          "B",
          "B",
          "B",
          "B",
          "B",
          "B",
          "B",
          "B",
          "A",
          "A",
          "B",
          "O",
          "O",
          "A",
          "B",
          "B",
          "F",
          "O",
          "O",
          "O",
          "O",
          "O",
          "O",
          "O",
          "O",
          "O",
          "O",
          "B",
          "O",
          "O",
          "B",
          "B",
          "O",
          "O",
          "A",
          "A",
          "O"
         ],
         "legendgroup": "",
         "marker": {
          "color": [
           3068,
           3042,
           2600,
           2800,
           1939,
           2840,
           2637,
           2600,
           2650,
           2700,
           3600,
           3129,
           3134,
           3628,
           2650,
           3340,
           2799,
           3692,
           3192,
           3441,
           25000,
           7740,
           7220,
           8500,
           16500,
           12990,
           8570,
           7700,
           11790,
           7230,
           39000,
           30000,
           15276,
           9700,
           5800,
           8052,
           6757,
           6380,
           5936,
           5587,
           3826,
           3365,
           3270,
           3200,
           3008,
           3600,
           3575,
           3574,
           3625,
           33750,
           3490,
           3750,
           3834,
           3749,
           3650,
           3450,
           3660,
           3450,
           3752,
           3535,
           3341,
           3432,
           2983,
           2835,
           2935,
           3295,
           2945,
           2817,
           2774,
           2871,
           3345,
           3607,
           3304,
           3150,
           3550,
           3180,
           2890,
           3342,
           2621,
           3158,
           7100,
           10574,
           8930,
           17200,
           14100,
           9675,
           12010,
           10980,
           13720,
           19860,
           5300,
           4526,
           4077,
           4980,
           9030,
           11250,
           5112,
           7720,
           12098,
           36108,
           33300,
           40000,
           23000,
           17120,
           11096,
           14245,
           24630,
           12893,
           24345,
           33421,
           3459,
           3605,
           3615,
           3399,
           3610,
           3553,
           4015,
           3625,
           6850,
           3780,
           3323,
           3531,
           3218,
           3146,
           3511,
           3225,
           2935,
           2861,
           2856,
           2731,
           3095,
           3607,
           3100,
           2989,
           3542,
           3243,
           3091,
           3598,
           3324,
           3541,
           13420,
           21020,
           18290,
           14520,
           11900,
           8924,
           12912,
           14732,
           7723,
           12984,
           29560,
           8945,
           14060,
           16390,
           25070,
           28700,
           26140,
           20120,
           13023,
           37800,
           25390,
           11567,
           12675,
           5752,
           8927,
           7282,
           19923,
           26373,
           17383,
           9373,
           3570,
           3500,
           4287,
           26000,
           3600,
           3614,
           18000,
           11000,
           12100,
           24490,
           2831,
           2914,
           3419,
           3218,
           3453,
           2889,
           2968,
           3484,
           2778,
           3523,
           3462,
           3257,
           2994,
           3212,
           3523,
           3598,
           3142,
           3496,
           3324,
           3463,
           16790,
           15680,
           14982,
           13340,
           18340,
           19920,
           24020,
           23092,
           17920,
           19360,
           22350,
           10012,
           13089,
           22012,
           34190,
           32460,
           9320,
           19400,
           17140,
           8250,
           23678,
           12749,
           9383,
           23440,
           16787,
           18734,
           9892,
           10930,
           23095,
           21738,
           24145,
           38234,
           32489,
           27739,
           21904,
           38940,
           30839,
           8829,
           9235,
           37882
          ],
          "coloraxis": "coloraxis",
          "symbol": "circle"
         },
         "mode": "markers",
         "name": "",
         "orientation": "v",
         "showlegend": false,
         "type": "scatter",
         "x": [
          3068,
          3042,
          2600,
          2800,
          1939,
          2840,
          2637,
          2600,
          2650,
          2700,
          3600,
          3129,
          3134,
          3628,
          2650,
          3340,
          2799,
          3692,
          3192,
          3441,
          25000,
          7740,
          7220,
          8500,
          16500,
          12990,
          8570,
          7700,
          11790,
          7230,
          39000,
          30000,
          15276,
          9700,
          5800,
          8052,
          6757,
          6380,
          5936,
          5587,
          3826,
          3365,
          3270,
          3200,
          3008,
          3600,
          3575,
          3574,
          3625,
          33750,
          3490,
          3750,
          3834,
          3749,
          3650,
          3450,
          3660,
          3450,
          3752,
          3535,
          3341,
          3432,
          2983,
          2835,
          2935,
          3295,
          2945,
          2817,
          2774,
          2871,
          3345,
          3607,
          3304,
          3150,
          3550,
          3180,
          2890,
          3342,
          2621,
          3158,
          7100,
          10574,
          8930,
          17200,
          14100,
          9675,
          12010,
          10980,
          13720,
          19860,
          5300,
          4526,
          4077,
          4980,
          9030,
          11250,
          5112,
          7720,
          12098,
          36108,
          33300,
          40000,
          23000,
          17120,
          11096,
          14245,
          24630,
          12893,
          24345,
          33421,
          3459,
          3605,
          3615,
          3399,
          3610,
          3553,
          4015,
          3625,
          6850,
          3780,
          3323,
          3531,
          3218,
          3146,
          3511,
          3225,
          2935,
          2861,
          2856,
          2731,
          3095,
          3607,
          3100,
          2989,
          3542,
          3243,
          3091,
          3598,
          3324,
          3541,
          13420,
          21020,
          18290,
          14520,
          11900,
          8924,
          12912,
          14732,
          7723,
          12984,
          29560,
          8945,
          14060,
          16390,
          25070,
          28700,
          26140,
          20120,
          13023,
          37800,
          25390,
          11567,
          12675,
          5752,
          8927,
          7282,
          19923,
          26373,
          17383,
          9373,
          3570,
          3500,
          4287,
          26000,
          3600,
          3614,
          18000,
          11000,
          12100,
          24490,
          2831,
          2914,
          3419,
          3218,
          3453,
          2889,
          2968,
          3484,
          2778,
          3523,
          3462,
          3257,
          2994,
          3212,
          3523,
          3598,
          3142,
          3496,
          3324,
          3463,
          16790,
          15680,
          14982,
          13340,
          18340,
          19920,
          24020,
          23092,
          17920,
          19360,
          22350,
          10012,
          13089,
          22012,
          34190,
          32460,
          9320,
          19400,
          17140,
          8250,
          23678,
          12749,
          9383,
          23440,
          16787,
          18734,
          9892,
          10930,
          23095,
          21738,
          24145,
          38234,
          32489,
          27739,
          21904,
          38940,
          30839,
          8829,
          9235,
          37882
         ],
         "xaxis": "x",
         "y": [
          0.0024,
          0.0005,
          0.0003,
          0.0002,
          0.000138,
          0.00065,
          0.00073,
          0.0004,
          0.00069,
          0.00018,
          0.0029,
          0.0122,
          0.0004,
          0.0055,
          0.0006,
          0.0038,
          0.0018,
          0.00367,
          0.00362,
          0.039,
          0.056,
          0.00049,
          0.00017,
          0.0005,
          0.013,
          0.000085,
          0.00081,
          0.00011,
          0.00015,
          0.00008,
          204000,
          28840,
          1136,
          74,
          0.81,
          8.7,
          1.43,
          1.35,
          1.357,
          0.819,
          200000,
          340000,
          150000,
          195000,
          280000,
          320000,
          123000,
          200000,
          184000,
          220000,
          270000,
          283000,
          272000,
          550000,
          310000,
          263000,
          363000,
          174000,
          209000,
          195000,
          0.0056,
          0.00067,
          0.00024,
          0.00034,
          0.00014,
          0.00098,
          0.00032,
          0.00098,
          0.00036,
          0.00072,
          0.021,
          0.022,
          0.0085,
          0.0088,
          0.004,
          0.001,
          0.0034,
          0.0015,
          0.0006,
          0.00135,
          0.00029,
          0.00014,
          0.00056,
          0.00098,
          0.00067,
          0.00045,
          0.00078,
          0.00074,
          0.00018,
          0.0011,
          0.59,
          0.153,
          0.085,
          0.357,
          45,
          672,
          0.63,
          7.92,
          689,
          198000,
          240000,
          813000,
          127000,
          235000,
          112000,
          231000,
          363000,
          184000,
          142000,
          352000,
          100000,
          126000,
          200000,
          117000,
          132000,
          145000,
          282000,
          74000,
          229000,
          200000,
          0.00043,
          0.00093,
          0.00054,
          0.00015,
          0.00064,
          0.00076,
          0.00087,
          0.00019,
          0.000896,
          0.000437,
          0.00019,
          0.00023,
          0.008,
          0.0087,
          0.0009,
          0.0023,
          0.0081,
          0.0011,
          0.0034,
          0.0013,
          0.00059,
          0.0015,
          0.0013,
          0.00082,
          0.00067,
          0.00028,
          0.00071,
          0.00011,
          0.00014,
          0.00088,
          188000,
          38,
          1092,
          1278,
          14500,
          16790,
          14520,
          4720,
          998,
          202900,
          223000,
          251000,
          452000,
          245000,
          239000,
          131000,
          152000,
          198000,
          342900,
          424520,
          320000,
          138000,
          630000,
          316000,
          240000,
          145000,
          200000,
          170000,
          120000,
          248490,
          0.000231,
          0.000631,
          0.000245,
          0.000452,
          0.000621,
          0.000352,
          0.000461,
          0.000551,
          0.000849,
          0.000957,
          0.0053,
          0.0024,
          0.0072,
          0.0016,
          0.0054,
          0.0027,
          0.00132,
          0.00125,
          0.0065,
          0.0027,
          0.0014,
          0.00122,
          0.00118,
          0.00109,
          0.00134,
          0.00156,
          0.00159,
          0.00132,
          0.00111,
          0.00125,
          12450,
          552,
          788,
          6748,
          198200,
          173800,
          29,
          10920,
          883,
          9.25,
          244290,
          332520,
          342940,
          537430,
          246730,
          224780,
          593900,
          783930,
          347820,
          748890,
          382993,
          272830,
          648430,
          849420,
          748490,
          374830,
          834042,
          537493,
          404940,
          294903
         ],
         "yaxis": "y"
        }
       ],
       "layout": {
        "coloraxis": {
         "colorbar": {
          "title": {
           "text": "Temperature (K)"
          }
         },
         "colorscale": [
          [
           0,
           "#0d0887"
          ],
          [
           0.1111111111111111,
           "#46039f"
          ],
          [
           0.2222222222222222,
           "#7201a8"
          ],
          [
           0.3333333333333333,
           "#9c179e"
          ],
          [
           0.4444444444444444,
           "#bd3786"
          ],
          [
           0.5555555555555556,
           "#d8576b"
          ],
          [
           0.6666666666666666,
           "#ed7953"
          ],
          [
           0.7777777777777778,
           "#fb9f3a"
          ],
          [
           0.8888888888888888,
           "#fdca26"
          ],
          [
           1,
           "#f0f921"
          ]
         ]
        },
        "legend": {
         "tracegroupgap": 0
        },
        "margin": {
         "t": 60
        },
        "template": {
         "data": {
          "bar": [
           {
            "error_x": {
             "color": "#2a3f5f"
            },
            "error_y": {
             "color": "#2a3f5f"
            },
            "marker": {
             "line": {
              "color": "#E5ECF6",
              "width": 0.5
             },
             "pattern": {
              "fillmode": "overlay",
              "size": 10,
              "solidity": 0.2
             }
            },
            "type": "bar"
           }
          ],
          "barpolar": [
           {
            "marker": {
             "line": {
              "color": "#E5ECF6",
              "width": 0.5
             },
             "pattern": {
              "fillmode": "overlay",
              "size": 10,
              "solidity": 0.2
             }
            },
            "type": "barpolar"
           }
          ],
          "carpet": [
           {
            "aaxis": {
             "endlinecolor": "#2a3f5f",
             "gridcolor": "white",
             "linecolor": "white",
             "minorgridcolor": "white",
             "startlinecolor": "#2a3f5f"
            },
            "baxis": {
             "endlinecolor": "#2a3f5f",
             "gridcolor": "white",
             "linecolor": "white",
             "minorgridcolor": "white",
             "startlinecolor": "#2a3f5f"
            },
            "type": "carpet"
           }
          ],
          "choropleth": [
           {
            "colorbar": {
             "outlinewidth": 0,
             "ticks": ""
            },
            "type": "choropleth"
           }
          ],
          "contour": [
           {
            "colorbar": {
             "outlinewidth": 0,
             "ticks": ""
            },
            "colorscale": [
             [
              0,
              "#0d0887"
             ],
             [
              0.1111111111111111,
              "#46039f"
             ],
             [
              0.2222222222222222,
              "#7201a8"
             ],
             [
              0.3333333333333333,
              "#9c179e"
             ],
             [
              0.4444444444444444,
              "#bd3786"
             ],
             [
              0.5555555555555556,
              "#d8576b"
             ],
             [
              0.6666666666666666,
              "#ed7953"
             ],
             [
              0.7777777777777778,
              "#fb9f3a"
             ],
             [
              0.8888888888888888,
              "#fdca26"
             ],
             [
              1,
              "#f0f921"
             ]
            ],
            "type": "contour"
           }
          ],
          "contourcarpet": [
           {
            "colorbar": {
             "outlinewidth": 0,
             "ticks": ""
            },
            "type": "contourcarpet"
           }
          ],
          "heatmap": [
           {
            "colorbar": {
             "outlinewidth": 0,
             "ticks": ""
            },
            "colorscale": [
             [
              0,
              "#0d0887"
             ],
             [
              0.1111111111111111,
              "#46039f"
             ],
             [
              0.2222222222222222,
              "#7201a8"
             ],
             [
              0.3333333333333333,
              "#9c179e"
             ],
             [
              0.4444444444444444,
              "#bd3786"
             ],
             [
              0.5555555555555556,
              "#d8576b"
             ],
             [
              0.6666666666666666,
              "#ed7953"
             ],
             [
              0.7777777777777778,
              "#fb9f3a"
             ],
             [
              0.8888888888888888,
              "#fdca26"
             ],
             [
              1,
              "#f0f921"
             ]
            ],
            "type": "heatmap"
           }
          ],
          "heatmapgl": [
           {
            "colorbar": {
             "outlinewidth": 0,
             "ticks": ""
            },
            "colorscale": [
             [
              0,
              "#0d0887"
             ],
             [
              0.1111111111111111,
              "#46039f"
             ],
             [
              0.2222222222222222,
              "#7201a8"
             ],
             [
              0.3333333333333333,
              "#9c179e"
             ],
             [
              0.4444444444444444,
              "#bd3786"
             ],
             [
              0.5555555555555556,
              "#d8576b"
             ],
             [
              0.6666666666666666,
              "#ed7953"
             ],
             [
              0.7777777777777778,
              "#fb9f3a"
             ],
             [
              0.8888888888888888,
              "#fdca26"
             ],
             [
              1,
              "#f0f921"
             ]
            ],
            "type": "heatmapgl"
           }
          ],
          "histogram": [
           {
            "marker": {
             "pattern": {
              "fillmode": "overlay",
              "size": 10,
              "solidity": 0.2
             }
            },
            "type": "histogram"
           }
          ],
          "histogram2d": [
           {
            "colorbar": {
             "outlinewidth": 0,
             "ticks": ""
            },
            "colorscale": [
             [
              0,
              "#0d0887"
             ],
             [
              0.1111111111111111,
              "#46039f"
             ],
             [
              0.2222222222222222,
              "#7201a8"
             ],
             [
              0.3333333333333333,
              "#9c179e"
             ],
             [
              0.4444444444444444,
              "#bd3786"
             ],
             [
              0.5555555555555556,
              "#d8576b"
             ],
             [
              0.6666666666666666,
              "#ed7953"
             ],
             [
              0.7777777777777778,
              "#fb9f3a"
             ],
             [
              0.8888888888888888,
              "#fdca26"
             ],
             [
              1,
              "#f0f921"
             ]
            ],
            "type": "histogram2d"
           }
          ],
          "histogram2dcontour": [
           {
            "colorbar": {
             "outlinewidth": 0,
             "ticks": ""
            },
            "colorscale": [
             [
              0,
              "#0d0887"
             ],
             [
              0.1111111111111111,
              "#46039f"
             ],
             [
              0.2222222222222222,
              "#7201a8"
             ],
             [
              0.3333333333333333,
              "#9c179e"
             ],
             [
              0.4444444444444444,
              "#bd3786"
             ],
             [
              0.5555555555555556,
              "#d8576b"
             ],
             [
              0.6666666666666666,
              "#ed7953"
             ],
             [
              0.7777777777777778,
              "#fb9f3a"
             ],
             [
              0.8888888888888888,
              "#fdca26"
             ],
             [
              1,
              "#f0f921"
             ]
            ],
            "type": "histogram2dcontour"
           }
          ],
          "mesh3d": [
           {
            "colorbar": {
             "outlinewidth": 0,
             "ticks": ""
            },
            "type": "mesh3d"
           }
          ],
          "parcoords": [
           {
            "line": {
             "colorbar": {
              "outlinewidth": 0,
              "ticks": ""
             }
            },
            "type": "parcoords"
           }
          ],
          "pie": [
           {
            "automargin": true,
            "type": "pie"
           }
          ],
          "scatter": [
           {
            "marker": {
             "colorbar": {
              "outlinewidth": 0,
              "ticks": ""
             }
            },
            "type": "scatter"
           }
          ],
          "scatter3d": [
           {
            "line": {
             "colorbar": {
              "outlinewidth": 0,
              "ticks": ""
             }
            },
            "marker": {
             "colorbar": {
              "outlinewidth": 0,
              "ticks": ""
             }
            },
            "type": "scatter3d"
           }
          ],
          "scattercarpet": [
           {
            "marker": {
             "colorbar": {
              "outlinewidth": 0,
              "ticks": ""
             }
            },
            "type": "scattercarpet"
           }
          ],
          "scattergeo": [
           {
            "marker": {
             "colorbar": {
              "outlinewidth": 0,
              "ticks": ""
             }
            },
            "type": "scattergeo"
           }
          ],
          "scattergl": [
           {
            "marker": {
             "colorbar": {
              "outlinewidth": 0,
              "ticks": ""
             }
            },
            "type": "scattergl"
           }
          ],
          "scattermapbox": [
           {
            "marker": {
             "colorbar": {
              "outlinewidth": 0,
              "ticks": ""
             }
            },
            "type": "scattermapbox"
           }
          ],
          "scatterpolar": [
           {
            "marker": {
             "colorbar": {
              "outlinewidth": 0,
              "ticks": ""
             }
            },
            "type": "scatterpolar"
           }
          ],
          "scatterpolargl": [
           {
            "marker": {
             "colorbar": {
              "outlinewidth": 0,
              "ticks": ""
             }
            },
            "type": "scatterpolargl"
           }
          ],
          "scatterternary": [
           {
            "marker": {
             "colorbar": {
              "outlinewidth": 0,
              "ticks": ""
             }
            },
            "type": "scatterternary"
           }
          ],
          "surface": [
           {
            "colorbar": {
             "outlinewidth": 0,
             "ticks": ""
            },
            "colorscale": [
             [
              0,
              "#0d0887"
             ],
             [
              0.1111111111111111,
              "#46039f"
             ],
             [
              0.2222222222222222,
              "#7201a8"
             ],
             [
              0.3333333333333333,
              "#9c179e"
             ],
             [
              0.4444444444444444,
              "#bd3786"
             ],
             [
              0.5555555555555556,
              "#d8576b"
             ],
             [
              0.6666666666666666,
              "#ed7953"
             ],
             [
              0.7777777777777778,
              "#fb9f3a"
             ],
             [
              0.8888888888888888,
              "#fdca26"
             ],
             [
              1,
              "#f0f921"
             ]
            ],
            "type": "surface"
           }
          ],
          "table": [
           {
            "cells": {
             "fill": {
              "color": "#EBF0F8"
             },
             "line": {
              "color": "white"
             }
            },
            "header": {
             "fill": {
              "color": "#C8D4E3"
             },
             "line": {
              "color": "white"
             }
            },
            "type": "table"
           }
          ]
         },
         "layout": {
          "annotationdefaults": {
           "arrowcolor": "#2a3f5f",
           "arrowhead": 0,
           "arrowwidth": 1
          },
          "autotypenumbers": "strict",
          "coloraxis": {
           "colorbar": {
            "outlinewidth": 0,
            "ticks": ""
           }
          },
          "colorscale": {
           "diverging": [
            [
             0,
             "#8e0152"
            ],
            [
             0.1,
             "#c51b7d"
            ],
            [
             0.2,
             "#de77ae"
            ],
            [
             0.3,
             "#f1b6da"
            ],
            [
             0.4,
             "#fde0ef"
            ],
            [
             0.5,
             "#f7f7f7"
            ],
            [
             0.6,
             "#e6f5d0"
            ],
            [
             0.7,
             "#b8e186"
            ],
            [
             0.8,
             "#7fbc41"
            ],
            [
             0.9,
             "#4d9221"
            ],
            [
             1,
             "#276419"
            ]
           ],
           "sequential": [
            [
             0,
             "#0d0887"
            ],
            [
             0.1111111111111111,
             "#46039f"
            ],
            [
             0.2222222222222222,
             "#7201a8"
            ],
            [
             0.3333333333333333,
             "#9c179e"
            ],
            [
             0.4444444444444444,
             "#bd3786"
            ],
            [
             0.5555555555555556,
             "#d8576b"
            ],
            [
             0.6666666666666666,
             "#ed7953"
            ],
            [
             0.7777777777777778,
             "#fb9f3a"
            ],
            [
             0.8888888888888888,
             "#fdca26"
            ],
            [
             1,
             "#f0f921"
            ]
           ],
           "sequentialminus": [
            [
             0,
             "#0d0887"
            ],
            [
             0.1111111111111111,
             "#46039f"
            ],
            [
             0.2222222222222222,
             "#7201a8"
            ],
            [
             0.3333333333333333,
             "#9c179e"
            ],
            [
             0.4444444444444444,
             "#bd3786"
            ],
            [
             0.5555555555555556,
             "#d8576b"
            ],
            [
             0.6666666666666666,
             "#ed7953"
            ],
            [
             0.7777777777777778,
             "#fb9f3a"
            ],
            [
             0.8888888888888888,
             "#fdca26"
            ],
            [
             1,
             "#f0f921"
            ]
           ]
          },
          "colorway": [
           "#636efa",
           "#EF553B",
           "#00cc96",
           "#ab63fa",
           "#FFA15A",
           "#19d3f3",
           "#FF6692",
           "#B6E880",
           "#FF97FF",
           "#FECB52"
          ],
          "font": {
           "color": "#2a3f5f"
          },
          "geo": {
           "bgcolor": "white",
           "lakecolor": "white",
           "landcolor": "#E5ECF6",
           "showlakes": true,
           "showland": true,
           "subunitcolor": "white"
          },
          "hoverlabel": {
           "align": "left"
          },
          "hovermode": "closest",
          "mapbox": {
           "style": "light"
          },
          "paper_bgcolor": "white",
          "plot_bgcolor": "#E5ECF6",
          "polar": {
           "angularaxis": {
            "gridcolor": "white",
            "linecolor": "white",
            "ticks": ""
           },
           "bgcolor": "#E5ECF6",
           "radialaxis": {
            "gridcolor": "white",
            "linecolor": "white",
            "ticks": ""
           }
          },
          "scene": {
           "xaxis": {
            "backgroundcolor": "#E5ECF6",
            "gridcolor": "white",
            "gridwidth": 2,
            "linecolor": "white",
            "showbackground": true,
            "ticks": "",
            "zerolinecolor": "white"
           },
           "yaxis": {
            "backgroundcolor": "#E5ECF6",
            "gridcolor": "white",
            "gridwidth": 2,
            "linecolor": "white",
            "showbackground": true,
            "ticks": "",
            "zerolinecolor": "white"
           },
           "zaxis": {
            "backgroundcolor": "#E5ECF6",
            "gridcolor": "white",
            "gridwidth": 2,
            "linecolor": "white",
            "showbackground": true,
            "ticks": "",
            "zerolinecolor": "white"
           }
          },
          "shapedefaults": {
           "line": {
            "color": "#2a3f5f"
           }
          },
          "ternary": {
           "aaxis": {
            "gridcolor": "white",
            "linecolor": "white",
            "ticks": ""
           },
           "baxis": {
            "gridcolor": "white",
            "linecolor": "white",
            "ticks": ""
           },
           "bgcolor": "#E5ECF6",
           "caxis": {
            "gridcolor": "white",
            "linecolor": "white",
            "ticks": ""
           }
          },
          "title": {
           "x": 0.05
          },
          "xaxis": {
           "automargin": true,
           "gridcolor": "white",
           "linecolor": "white",
           "ticks": "",
           "title": {
            "standoff": 15
           },
           "zerolinecolor": "white",
           "zerolinewidth": 2
          },
          "yaxis": {
           "automargin": true,
           "gridcolor": "white",
           "linecolor": "white",
           "ticks": "",
           "title": {
            "standoff": 15
           },
           "zerolinecolor": "white",
           "zerolinewidth": 2
          }
         }
        },
        "xaxis": {
         "anchor": "y",
         "autorange": "reversed",
         "domain": [
          0,
          1
         ],
         "title": {
          "text": "Temperature (K)"
         },
         "type": "log"
        },
        "yaxis": {
         "anchor": "x",
         "domain": [
          0,
          1
         ],
         "title": {
          "text": "Luminosity(L/Lo)"
         },
         "type": "log"
        }
       }
      }
     },
     "metadata": {},
     "output_type": "display_data"
    }
   ],
   "source": [
    "fig = px.scatter(df, x='Temperature (K)', y='Luminosity(L/Lo)', hover_name='Spectral Class', log_x=True, log_y=True, color='Temperature (K)', ``)\n",
    "fig['layout']['xaxis']['autorange'] = \"reversed\"\n",
    "fig.show()"
   ]
  },
  {
   "cell_type": "code",
   "execution_count": null,
   "metadata": {},
   "outputs": [],
   "source": []
  }
 ],
 "metadata": {
  "kernelspec": {
   "display_name": "Python 3.9.12 ('base')",
   "language": "python",
   "name": "python3"
  },
  "language_info": {
   "codemirror_mode": {
    "name": "ipython",
    "version": 3
   },
   "file_extension": ".py",
   "mimetype": "text/x-python",
   "name": "python",
   "nbconvert_exporter": "python",
   "pygments_lexer": "ipython3",
   "version": "3.9.12"
  },
  "orig_nbformat": 4,
  "vscode": {
   "interpreter": {
    "hash": "8029c709e84c1a8abd9d2c4be48a613c22badb8b8c37d71c0b0342174a8af14c"
   }
  }
 },
 "nbformat": 4,
 "nbformat_minor": 2
}
